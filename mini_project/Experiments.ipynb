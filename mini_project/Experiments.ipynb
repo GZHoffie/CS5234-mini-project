{
 "cells": [
  {
   "cell_type": "markdown",
   "id": "2375b10a-664a-4dda-8a03-5d0192e96eba",
   "metadata": {},
   "source": [
    "# Experiments"
   ]
  },
  {
   "cell_type": "markdown",
   "id": "ae7d070a-3cbb-410a-a6af-825d6db8f55d",
   "metadata": {},
   "source": [
    "## Generate samples"
   ]
  },
  {
   "cell_type": "code",
   "execution_count": null,
   "id": "dce7e1c2-f2e8-47c2-bedf-9b9a8df498f1",
   "metadata": {},
   "outputs": [
    {
     "name": "stdout",
     "output_type": "stream",
     "text": [
      "Generating n=100, N=10000, dependent\n",
      "{'l1': 0.8869650600000001, 'l2': 0.011410931370576197, 'independent': False}\n",
      "Generating n=100, N=10000, independent\n",
      "{'l1': 0.68495558, 'l2': 0.009840617987016872, 'independent': False}\n",
      "Generating n=100, N=100000, dependent\n",
      "{'l1': 0.5436862621999999, 'l2': 0.006505957278162057, 'independent': False}\n",
      "Generating n=100, N=100000, independent\n",
      "{'l1': 0.2203520602, 'l2': 0.003156345954773462, 'independent': True}\n",
      "Generating n=100, N=1000000, dependent\n",
      "{'l1': 0.504026183858, 'l2': 0.005856109334291338, 'independent': False}\n",
      "Generating n=100, N=1000000, independent\n",
      "{'l1': 0.068869196146, 'l2': 0.0009734626143419279, 'independent': True}\n",
      "Generating n=100, N=10000000, dependent\n"
     ]
    }
   ],
   "source": [
    "from mini_project.data import DiscreteSampleGenerator\n",
    "\n",
    "\n",
    "for n in [10**2,10**3,10**4,10**5,10**6]:\n",
    "    for N in [10**4,10**5,10**6,10**7,10**8,10**9]:\n",
    "        for is_dependent in['dependent','independent']:\n",
    "            print(f\"Generating n={n}, N={N}, {is_dependent}\")\n",
    "            generator = DiscreteSampleGenerator(n, N, independent=(False if is_dependent=='dependent' else True))\n",
    "            generator.write_file(str(n) + \"-\" + str(n) + \"-\" + str(is_dependent))"
   ]
  },
  {
   "cell_type": "code",
   "execution_count": null,
   "id": "1c417b19-acef-4f9d-8879-8cf80b79c279",
   "metadata": {},
   "outputs": [],
   "source": []
  }
 ],
 "metadata": {
  "kernelspec": {
   "display_name": "Python 3 (ipykernel)",
   "language": "python",
   "name": "python3"
  },
  "language_info": {
   "codemirror_mode": {
    "name": "ipython",
    "version": 3
   },
   "file_extension": ".py",
   "mimetype": "text/x-python",
   "name": "python",
   "nbconvert_exporter": "python",
   "pygments_lexer": "ipython3",
   "version": "3.9.7"
  }
 },
 "nbformat": 4,
 "nbformat_minor": 5
}
