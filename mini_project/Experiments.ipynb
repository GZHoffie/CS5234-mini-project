{
 "cells": [
  {
   "cell_type": "markdown",
   "id": "2375b10a-664a-4dda-8a03-5d0192e96eba",
   "metadata": {},
   "source": [
    "# Experiments"
   ]
  },
  {
   "cell_type": "markdown",
   "id": "ae7d070a-3cbb-410a-a6af-825d6db8f55d",
   "metadata": {},
   "source": [
    "## Generate samples"
   ]
  },
  {
   "cell_type": "code",
   "execution_count": 2,
   "id": "dce7e1c2-f2e8-47c2-bedf-9b9a8df498f1",
   "metadata": {},
   "outputs": [
    {
     "ename": "NameError",
     "evalue": "name 'file_path' is not defined",
     "output_type": "error",
     "traceback": [
      "\u001b[0;31m---------------------------------------------------------------------------\u001b[0m",
      "\u001b[0;31mNameError\u001b[0m                                 Traceback (most recent call last)",
      "\u001b[0;32m/var/folders/7v/rrr6ml3j1gd4m0x13lwhxpph0000gn/T/ipykernel_9770/3773053222.py\u001b[0m in \u001b[0;36m<module>\u001b[0;34m\u001b[0m\n\u001b[1;32m      5\u001b[0m \u001b[0;32mimport\u001b[0m \u001b[0mos\u001b[0m\u001b[0;34m.\u001b[0m\u001b[0mpath\u001b[0m\u001b[0;34m\u001b[0m\u001b[0;34m\u001b[0m\u001b[0m\n\u001b[1;32m      6\u001b[0m \u001b[0;34m\u001b[0m\u001b[0m\n\u001b[0;32m----> 7\u001b[0;31m \u001b[0mprint\u001b[0m\u001b[0;34m(\u001b[0m\u001b[0mos\u001b[0m\u001b[0;34m.\u001b[0m\u001b[0mpath\u001b[0m\u001b[0;34m.\u001b[0m\u001b[0mexists\u001b[0m\u001b[0;34m(\u001b[0m\u001b[0mfile_path\u001b[0m\u001b[0;34m)\u001b[0m\u001b[0;34m)\u001b[0m\u001b[0;34m\u001b[0m\u001b[0;34m\u001b[0m\u001b[0m\n\u001b[0m\u001b[1;32m      8\u001b[0m \u001b[0;34m\u001b[0m\u001b[0m\n\u001b[1;32m      9\u001b[0m \u001b[0mrandom\u001b[0m\u001b[0;34m.\u001b[0m\u001b[0mseed\u001b[0m\u001b[0;34m(\u001b[0m\u001b[0;36m5234\u001b[0m\u001b[0;34m)\u001b[0m\u001b[0;34m\u001b[0m\u001b[0;34m\u001b[0m\u001b[0m\n",
      "\u001b[0;31mNameError\u001b[0m: name 'file_path' is not defined"
     ]
    }
   ],
   "source": [
    "from mini_project.data import DiscreteSampleGenerator\n",
    "from mini_project.utils import ANSWER_DIR\n",
    "import time\n",
    "import random\n",
    "import os.path\n",
    "\n",
    "\n",
    "random.seed(5234)\n",
    "\n",
    "n_range = [10,10**2,10**3,10**4,10**5]\n",
    "N_range = [10**3,10**4,10**5,10**6]\n",
    "\n",
    "# n_range = [10,10**2,10**3,10**4,10**5,10**6,10**7]\n",
    "# N_range = [10**3,10**4,10**5,10**6,10**7,10**8]\n",
    "\n",
    "for n in n_range:\n",
    "    for N in N_range :\n",
    "\n",
    "# for n in [10,10**2,10**3,10**4,10**5,10**6,10**7]:\n",
    "#     for N in [10**3,10**4,10**5,10**6,10**7,10**8]:\n",
    "        for is_dependent in['dependent','independent']:\n",
    "            file_name = f\"{n}-{N}-{is_dependent}\"\n",
    "            if os.path.exists(os.path.join(ANSWER_DIR,f\"{file_name}.pickle\")):\n",
    "                print(f\"Skip {file_name}\")\n",
    "                continue\n",
    "            start_time = time.time()\n",
    "            print(f\"Generating n={n}, N={N}, {is_dependent}\")\n",
    "            generator = DiscreteSampleGenerator(n, N, independent=(False if is_dependent=='dependent' else True))\n",
    "            generator.write_file(file_name)\n",
    "            print(f\"Generated n={n}, N={N}, {is_dependent} in {round(time.time()-start_time,2)}s\")"
   ]
  },
  {
   "cell_type": "code",
   "execution_count": 3,
   "id": "999d02f8-8208-4a1b-af49-a9471232f5de",
   "metadata": {},
   "outputs": [
    {
     "name": "stdout",
     "output_type": "stream",
     "text": [
      "True\n"
     ]
    }
   ],
   "source": [
    "\n",
    "print()"
   ]
  },
  {
   "cell_type": "code",
   "execution_count": null,
   "id": "1c417b19-acef-4f9d-8879-8cf80b79c279",
   "metadata": {},
   "outputs": [],
   "source": []
  }
 ],
 "metadata": {
  "kernelspec": {
   "display_name": "Python 3 (ipykernel)",
   "language": "python",
   "name": "python3"
  },
  "language_info": {
   "codemirror_mode": {
    "name": "ipython",
    "version": 3
   },
   "file_extension": ".py",
   "mimetype": "text/x-python",
   "name": "python",
   "nbconvert_exporter": "python",
   "pygments_lexer": "ipython3",
   "version": "3.9.7"
  }
 },
 "nbformat": 4,
 "nbformat_minor": 5
}
