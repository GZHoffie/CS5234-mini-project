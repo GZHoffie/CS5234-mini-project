{
 "cells": [
  {
   "cell_type": "markdown",
   "id": "2375b10a-664a-4dda-8a03-5d0192e96eba",
   "metadata": {},
   "source": [
    "# Experiments"
   ]
  },
  {
   "cell_type": "markdown",
   "id": "ae7d070a-3cbb-410a-a6af-825d6db8f55d",
   "metadata": {},
   "source": [
    "## Generate samples"
   ]
  },
  {
   "cell_type": "code",
   "execution_count": null,
   "id": "dce7e1c2-f2e8-47c2-bedf-9b9a8df498f1",
   "metadata": {},
   "outputs": [
    {
     "name": "stdout",
     "output_type": "stream",
     "text": [
      "Skip 10-1000-dependent\n",
      "Skip 10-1000-independent\n",
      "Skip 10-10000-dependent\n",
      "Skip 10-10000-independent\n",
      "Skip 10-100000-dependent\n",
      "Skip 10-100000-independent\n",
      "Skip 10-1000000-dependent\n",
      "Skip 10-1000000-independent\n",
      "Skip 10-10000000-dependent\n",
      "Skip 10-10000000-independent\n",
      "Skip 100-1000-dependent\n",
      "Skip 100-1000-independent\n",
      "Skip 100-10000-dependent\n",
      "Skip 100-10000-independent\n",
      "Skip 100-100000-dependent\n",
      "Skip 100-100000-independent\n",
      "Skip 100-1000000-dependent\n",
      "Skip 100-1000000-independent\n",
      "Generating n=100, N=10000000, dependent\n",
      "{'l1': 0.49761691797594, 'l2': 0.005764975523897504, 'independent': False}\n",
      "Generated n=100, N=10000000, dependent in 423.72s\n",
      "Generating n=100, N=10000000, independent\n",
      "{'l1': 0.0227342628309, 'l2': 0.00031653404268639873, 'independent': True}\n",
      "Generated n=100, N=10000000, independent in 419.27s\n",
      "Skip 1000-1000-dependent\n",
      "Skip 1000-1000-independent\n",
      "Skip 1000-10000-dependent\n",
      "Skip 1000-10000-independent\n",
      "Skip 1000-100000-dependent\n",
      "Skip 1000-100000-independent\n",
      "Skip 1000-1000000-dependent\n",
      "Skip 1000-1000000-independent\n",
      "Generating n=1000, N=10000000, dependent\n",
      "{'l1': 0.54967544597662, 'l2': 0.0006572570373104414, 'independent': False}\n",
      "Generated n=1000, N=10000000, dependent in 766.97s\n",
      "Generating n=1000, N=10000000, independent\n"
     ]
    }
   ],
   "source": [
    "from mini_project.data import DiscreteSampleGenerator\n",
    "from mini_project.utils import ANSWER_DIR\n",
    "import time\n",
    "import os.path\n",
    "\n",
    "# n_range = [10,10**2,10**3,10**4,10**5,10**6,10**7]\n",
    "# N_range = [10**3,10**4,10**5,10**6,10**7,10**8]\n",
    "\n",
    "n_range = [10,10**2,10**3,10**4,10**5]\n",
    "N_range = [10**3,10**4,10**5,10**6,10**7]\n",
    "\n",
    "for n in n_range:\n",
    "    for N in N_range :\n",
    "        for is_dependent in['dependent','independent']:\n",
    "            file_name = f\"{n}-{N}-{is_dependent}\"\n",
    "            if os.path.exists(os.path.join(ANSWER_DIR,f\"{file_name}.pickle\")):\n",
    "                print(f\"Skip {file_name}\")\n",
    "                continue\n",
    "            start_time = time.time()\n",
    "            print(f\"Generating n={n}, N={N}, {is_dependent}\")\n",
    "            generator = DiscreteSampleGenerator(n, N, independent=(False if is_dependent=='dependent' else True))\n",
    "            generator.write_file(file_name)\n",
    "            print(f\"Generated n={n}, N={N}, {is_dependent} in {round(time.time()-start_time,2)}s\")"
   ]
  },
  {
   "cell_type": "code",
   "execution_count": null,
   "id": "1c417b19-acef-4f9d-8879-8cf80b79c279",
   "metadata": {},
   "outputs": [],
   "source": []
  }
 ],
 "metadata": {
  "kernelspec": {
   "display_name": "Python 3 (ipykernel)",
   "language": "python",
   "name": "python3"
  },
  "language_info": {
   "codemirror_mode": {
    "name": "ipython",
    "version": 3
   },
   "file_extension": ".py",
   "mimetype": "text/x-python",
   "name": "python",
   "nbconvert_exporter": "python",
   "pygments_lexer": "ipython3",
   "version": "3.9.7"
  }
 },
 "nbformat": 4,
 "nbformat_minor": 5
}
