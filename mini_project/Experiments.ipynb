{
 "cells": [
  {
   "cell_type": "markdown",
   "id": "2375b10a-664a-4dda-8a03-5d0192e96eba",
   "metadata": {},
   "source": [
    "# Experiments"
   ]
  },
  {
   "cell_type": "markdown",
   "id": "ae7d070a-3cbb-410a-a6af-825d6db8f55d",
   "metadata": {},
   "source": [
    "## Generate samples"
   ]
  },
  {
   "cell_type": "code",
   "execution_count": null,
   "id": "dce7e1c2-f2e8-47c2-bedf-9b9a8df498f1",
   "metadata": {},
   "outputs": [
    {
     "name": "stdout",
     "output_type": "stream",
     "text": [
      "Skip 10-10000-dependent\n",
      "Skip 10-10000-independent\n",
      "Skip 10-100000-dependent\n",
      "Skip 10-100000-independent\n",
      "Skip 10-1000000-dependent\n",
      "Skip 10-1000000-independent\n",
      "Skip 10-10000000-dependent\n",
      "Skip 10-10000000-independent\n",
      "Generating n=10, N=100000000, dependent\n",
      "{'l1': 0.4562588708337288, 'l2': 0.05390246335425509, 'independent': False}\n",
      "Generated n=10, N=100000000, dependent in 3930.75s\n",
      "Generating n=10, N=100000000, independent\n",
      "{'l1': 0.0005559867393772121, 'l2': 7.547464685926608e-05, 'independent': True}\n",
      "Generated n=10, N=100000000, independent in 3895.21s\n",
      "Skip 100-10000-dependent\n",
      "Skip 100-10000-independent\n",
      "Skip 100-100000-dependent\n",
      "Skip 100-100000-independent\n",
      "Skip 100-1000000-dependent\n",
      "Skip 100-1000000-independent\n",
      "Skip 100-10000000-dependent\n",
      "Skip 100-10000000-independent\n",
      "Generating n=100, N=100000000, dependent\n",
      "{'l1': 0.4925680425998342, 'l2': 0.005706863004537799, 'independent': False}\n",
      "Generated n=100, N=100000000, dependent in 4132.82s\n",
      "Generating n=100, N=100000000, independent\n",
      "{'l1': 0.006912187718107401, 'l2': 9.932243581982756e-05, 'independent': True}\n",
      "Generated n=100, N=100000000, independent in 7326.1s\n",
      "Skip 1000-10000-dependent\n",
      "Skip 1000-10000-independent\n",
      "Skip 1000-100000-dependent\n",
      "Skip 1000-100000-independent\n",
      "Skip 1000-1000000-dependent\n",
      "Skip 1000-1000000-independent\n",
      "Skip 1000-10000000-dependent\n",
      "Skip 1000-10000000-independent\n",
      "Generating n=1000, N=100000000, dependent\n",
      "{'l1': 0.5048419520569746, 'l2': 0.0005858199107130304, 'independent': False}\n",
      "Generated n=1000, N=100000000, dependent in 7564.63s\n",
      "Generating n=1000, N=100000000, independent\n",
      "{'l1': 0.07103357110981237, 'l2': 9.996990218278981e-05, 'independent': True}\n",
      "Generated n=1000, N=100000000, independent in 7717.04s\n",
      "Skip 10000-10000-dependent\n",
      "Skip 10000-10000-independent\n",
      "Skip 10000-100000-dependent\n",
      "Skip 10000-100000-independent\n",
      "Skip 10000-1000000-dependent\n",
      "Skip 10000-1000000-independent\n",
      "Skip 10000-10000000-dependent\n",
      "Skip 10000-10000000-independent\n",
      "Generating n=10000, N=100000000, dependent\n"
     ]
    }
   ],
   "source": [
    "from mini_project.data import DiscreteSampleGenerator\n",
    "from mini_project.utils import ANSWER_DIR\n",
    "import time\n",
    "import os.path\n",
    "\n",
    "# n_range = [10,10**2,10**3,10**4,10**5,10**6,10**7]\n",
    "# N_range = [10**3,10**4,10**5,10**6,10**7,10**8]\n",
    "\n",
    "n_range = [10,10**2,10**3,10**4]\n",
    "N_range = [10**4,10**5,10**6,10**7,10**8]\n",
    "\n",
    "for n in n_range:\n",
    "    for N in N_range :\n",
    "        for is_dependent in['dependent','independent']:\n",
    "            file_name = f\"{n}-{N}-{is_dependent}\"\n",
    "            if os.path.exists(os.path.join(ANSWER_DIR,f\"{file_name}.pickle\")):\n",
    "                print(f\"Skip {file_name}\")\n",
    "                continue\n",
    "            start_time = time.time()\n",
    "            print(f\"Generating n={n}, N={N}, {is_dependent}\")\n",
    "            generator = DiscreteSampleGenerator(n, N, independent=(False if is_dependent=='dependent' else True))\n",
    "            generator.write_file(file_name)\n",
    "            print(f\"Generated n={n}, N={N}, {is_dependent} in {round(time.time()-start_time,2)}s\")"
   ]
  },
  {
   "cell_type": "code",
   "execution_count": null,
   "id": "1c417b19-acef-4f9d-8879-8cf80b79c279",
   "metadata": {},
   "outputs": [],
   "source": []
  }
 ],
 "metadata": {
  "kernelspec": {
   "display_name": "Python 3 (ipykernel)",
   "language": "python",
   "name": "python3"
  },
  "language_info": {
   "codemirror_mode": {
    "name": "ipython",
    "version": 3
   },
   "file_extension": ".py",
   "mimetype": "text/x-python",
   "name": "python",
   "nbconvert_exporter": "python",
   "pygments_lexer": "ipython3",
   "version": "3.9.7"
  }
 },
 "nbformat": 4,
 "nbformat_minor": 5
}
