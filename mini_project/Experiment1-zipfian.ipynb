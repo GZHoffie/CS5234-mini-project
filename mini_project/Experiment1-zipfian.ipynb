{
 "cells": [
  {
   "cell_type": "markdown",
   "id": "2375b10a-664a-4dda-8a03-5d0192e96eba",
   "metadata": {},
   "source": [
    "# Experiments"
   ]
  },
  {
   "cell_type": "markdown",
   "id": "ae7d070a-3cbb-410a-a6af-825d6db8f55d",
   "metadata": {},
   "source": [
    "## Generate samples"
   ]
  },
  {
   "cell_type": "code",
   "execution_count": null,
   "id": "dce7e1c2-f2e8-47c2-bedf-9b9a8df498f1",
   "metadata": {},
   "outputs": [
    {
     "name": "stdout",
     "output_type": "stream",
     "text": [
      "[ 2  4  8 16 32] (5,)\n",
      "[  1   4  16  64 256] (5,)\n",
      "10000-1000000-dependent-zipfian\n",
      "l2 10000-1000000-dependent-zipfian 10000 1000000 dependent 2 1\n",
      "variance: 0.0\n",
      "Estimator result: 0.034179523584000004\n",
      "Answer: 0.0651095740530614\n",
      "error: 0.47504611908311345\n",
      "l2 10000-1000000-dependent-zipfian 10000 1000000 dependent 2 4\n",
      "variance: 8.683848656950983e-06\n",
      "Estimator result: 0.0536679818335884\n",
      "Answer: 0.0651095740530614\n",
      "error: 0.1757282609489752\n",
      "l2 10000-1000000-dependent-zipfian 10000 1000000 dependent 2 16\n",
      "variance: 1.4982118352491422e-05\n",
      "Estimator result: 0.05436199790587703\n",
      "Answer: 0.0651095740530614\n",
      "error: 0.1650690594047748\n",
      "l2 10000-1000000-dependent-zipfian 10000 1000000 dependent 2 64\n"
     ]
    }
   ],
   "source": [
    "from mini_project.algorithms.counter_matrix import L2Estimator, L1Estimator\n",
    "from mini_project.utils import check_error\n",
    "import numpy as np\n",
    "import pandas as pd\n",
    "\n",
    "\n",
    "def test_l2(test_file,n,N,is_dependent,A,B):\n",
    "    estimator = L2Estimator(A, B)\n",
    "    (res, answer, error) = check_error(estimator, test_file,\"l2\")\n",
    "    print(\"error:\", error)\n",
    "    with open('results/counter_matrix_l2_zipfian.csv', 'a') as f:\n",
    "        f.write(f\"{n},{N},{is_dependent},{A},{B},{res},{answer},{error}\\n\")\n",
    "\n",
    "        \n",
    "n = 10000\n",
    "N = 1000000\n",
    "total_times = 5\n",
    "\n",
    "df = pd.read_csv(\"results/counter_matrix_l2_zipfian.csv\")\n",
    "        \n",
    "A_range = 2 ** np.arange(6)[1:]\n",
    "B_range = 4 ** np.arange(5)\n",
    "\n",
    "print(A_range,A_range.shape)\n",
    "print(B_range,B_range.shape)\n",
    "\n",
    "\n",
    "for i in range(total_times):\n",
    "    for is_dependent in['dependent','independent']:\n",
    "        test_file = f\"{n}-{N}-{is_dependent}-zipfian\"\n",
    "        print(test_file)\n",
    "        for A in A_range:\n",
    "            for B in B_range:\n",
    "                if len(df[(df['A'] == A) & (df['B'] == B)& (df['is_independent']==is_dependent)])>=total_times:\n",
    "                    print(f\"Skip A={A}, B={B}\")\n",
    "                else:\n",
    "                    print(\"l2\",test_file,n,N,is_dependent,A,B)\n",
    "                    test_l2(test_file,n,N,is_dependent,A,B)\n",
    "            \n",
    "\n",
    "\n"
   ]
  },
  {
   "cell_type": "code",
   "execution_count": null,
   "id": "7930a143-e7c5-42ff-bbf7-359d4d3e32ea",
   "metadata": {},
   "outputs": [],
   "source": []
  }
 ],
 "metadata": {
  "kernelspec": {
   "display_name": "Python 3 (ipykernel)",
   "language": "python",
   "name": "python3"
  },
  "language_info": {
   "codemirror_mode": {
    "name": "ipython",
    "version": 3
   },
   "file_extension": ".py",
   "mimetype": "text/x-python",
   "name": "python",
   "nbconvert_exporter": "python",
   "pygments_lexer": "ipython3",
   "version": "3.9.7"
  }
 },
 "nbformat": 4,
 "nbformat_minor": 5
}
