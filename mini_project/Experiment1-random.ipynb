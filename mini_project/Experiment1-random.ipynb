{
 "cells": [
  {
   "cell_type": "markdown",
   "id": "2375b10a-664a-4dda-8a03-5d0192e96eba",
   "metadata": {},
   "source": [
    "# Experiments"
   ]
  },
  {
   "cell_type": "markdown",
   "id": "ae7d070a-3cbb-410a-a6af-825d6db8f55d",
   "metadata": {},
   "source": [
    "## Generate samples"
   ]
  },
  {
   "cell_type": "code",
   "execution_count": null,
   "id": "dce7e1c2-f2e8-47c2-bedf-9b9a8df498f1",
   "metadata": {},
   "outputs": [
    {
     "name": "stdout",
     "output_type": "stream",
     "text": [
      "[ 2  4  8 16 32] (5,)\n",
      "[  1   4  16  64 256] (5,)\n",
      "10000-1000000-dependent-radom\n",
      "l2 10000-1000000-dependent-radom 10000 1000000 dependent 2 1\n",
      "variance: 0.0\n",
      "Estimator result: 0.0006611569839999609\n",
      "Answer: 0.0010016305745224907\n",
      "error: 0.33991932672866376\n",
      "l2 10000-1000000-dependent-radom 10000 1000000 dependent 2 4\n",
      "variance: 1.199725085183229e-12\n",
      "Estimator result: 0.0004617580163903654\n",
      "Answer: 0.0010016305745224907\n",
      "error: 0.5389936887554574\n",
      "l2 10000-1000000-dependent-radom 10000 1000000 dependent 2 16\n",
      "variance: 9.636387338723635e-13\n",
      "Estimator result: 0.0007713516220953067\n",
      "Answer: 0.0010016305745224907\n",
      "error: 0.229904076697105\n",
      "l2 10000-1000000-dependent-radom 10000 1000000 dependent 2 64\n",
      "variance: 2.0954370212196244e-12\n",
      "Estimator result: 0.0007505703965573029\n",
      "Answer: 0.0010016305745224907\n",
      "error: 0.2506514720608206\n",
      "l2 10000-1000000-dependent-radom 10000 1000000 dependent 2 256\n"
     ]
    }
   ],
   "source": [
    "from mini_project.algorithms.counter_matrix import L2Estimator, L1Estimator\n",
    "from mini_project.utils import check_error\n",
    "import numpy as np\n",
    "import pandas as pd\n",
    "\n",
    "\n",
    "def test_l2(test_file,n,N,is_dependent,A,B):\n",
    "    estimator = L2Estimator(A, B)\n",
    "    (res, answer, error) = check_error(estimator, test_file,\"l2\")\n",
    "    print(\"error:\", error)\n",
    "    with open('results/counter_matrix_l2_random.csv', 'a') as f:\n",
    "        f.write(f\"{n},{N},{is_dependent},{A},{B},{res},{answer},{error}\\n\")\n",
    "\n",
    "df = pd.read_csv(\"results/counter_matrix_l2_random.csv\")\n",
    "\n",
    "\n",
    "n = 10000\n",
    "N = 1000000\n",
    "total_times = 5\n",
    "        \n",
    "A_range = 2 ** np.arange(6)[1:]\n",
    "B_range = 4 ** np.arange(5)\n",
    "\n",
    "print(A_range,A_range.shape)\n",
    "print(B_range,B_range.shape)\n",
    "\n",
    "for i in range(total_times):\n",
    "    for is_dependent in['dependent','independent']:\n",
    "        test_file = f\"{n}-{N}-{is_dependent}-radom\"\n",
    "        print(test_file)\n",
    "        for A in A_range:\n",
    "            for B in B_range:\n",
    "                if len(df[(df['A'] == A) & (df['B'] == B)& (df['is_independent']==is_dependent)])>=total_times:\n",
    "                    print(f\"Skip A={A}, B={B}\")\n",
    "                else:\n",
    "                    print(\"l2\",test_file,n,N,is_dependent,A,B)\n",
    "                    test_l2(test_file,n,N,is_dependent,A,B)\n",
    "\n"
   ]
  },
  {
   "cell_type": "code",
   "execution_count": null,
   "id": "b3f4893a-c60c-4275-a820-6597864dd716",
   "metadata": {},
   "outputs": [],
   "source": []
  }
 ],
 "metadata": {
  "kernelspec": {
   "display_name": "Python 3 (ipykernel)",
   "language": "python",
   "name": "python3"
  },
  "language_info": {
   "codemirror_mode": {
    "name": "ipython",
    "version": 3
   },
   "file_extension": ".py",
   "mimetype": "text/x-python",
   "name": "python",
   "nbconvert_exporter": "python",
   "pygments_lexer": "ipython3",
   "version": "3.9.7"
  }
 },
 "nbformat": 4,
 "nbformat_minor": 5
}
