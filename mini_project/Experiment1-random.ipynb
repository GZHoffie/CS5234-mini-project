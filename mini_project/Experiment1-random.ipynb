{
 "cells": [
  {
   "cell_type": "markdown",
   "id": "2375b10a-664a-4dda-8a03-5d0192e96eba",
   "metadata": {},
   "source": [
    "# Experiments"
   ]
  },
  {
   "cell_type": "markdown",
   "id": "ae7d070a-3cbb-410a-a6af-825d6db8f55d",
   "metadata": {},
   "source": [
    "## Generate samples"
   ]
  },
  {
   "cell_type": "code",
   "execution_count": null,
   "id": "dce7e1c2-f2e8-47c2-bedf-9b9a8df498f1",
   "metadata": {},
   "outputs": [
    {
     "name": "stdout",
     "output_type": "stream",
     "text": [
      "[  2   4   8  16  32  64 128] (7,)\n",
      "[   1    4   16   64  256 1024 4096] (7,)\n",
      "10000-1000000-dependent-radom\n",
      "l2 10000-1000000-dependent-radom 10000 1000000 dependent 2 1\n",
      "variance: 0.0\n",
      "Estimator result: 0.0005070074239999778\n",
      "Answer: 0.0010016305745224907\n",
      "error: 0.4938179435649871\n",
      "l2 10000-1000000-dependent-radom 10000 1000000 dependent 2 4\n",
      "variance: 6.488349663774556e-13\n",
      "Estimator result: 0.0009996936763001095\n",
      "Answer: 0.0010016305745224907\n",
      "error: 0.0019337451068769385\n",
      "l2 10000-1000000-dependent-radom 10000 1000000 dependent 2 16\n",
      "variance: 4.369176874777277e-12\n",
      "Estimator result: 0.0009036973900281703\n",
      "Answer: 0.0010016305745224907\n",
      "error: 0.09777375709702973\n",
      "l2 10000-1000000-dependent-radom 10000 1000000 dependent 2 64\n",
      "variance: 2.7602219075388147e-12\n",
      "Estimator result: 0.0007706983909370271\n",
      "Answer: 0.0010016305745224907\n",
      "error: 0.23055624444726674\n",
      "l2 10000-1000000-dependent-radom 10000 1000000 dependent 2 256\n",
      "variance: 1.2141254399294157e-12\n",
      "Estimator result: 0.0006402947606466626\n",
      "Answer: 0.0010016305745224907\n",
      "error: 0.3607475880497042\n",
      "l2 10000-1000000-dependent-radom 10000 1000000 dependent 2 1024\n"
     ]
    }
   ],
   "source": [
    "from mini_project.algorithms.counter_matrix import L2Estimator, L1Estimator\n",
    "from mini_project.utils import check_error\n",
    "import numpy as np\n",
    "\n",
    "\n",
    "def test_l2(test_file,n,N,is_dependent,A,B):\n",
    "    estimator = L2Estimator(A, B)\n",
    "    (res, answer, error) = check_error(estimator, test_file,\"l2\")\n",
    "    print(\"error:\", error)\n",
    "    with open('results/counter_matrix_l2_random.csv', 'a') as f:\n",
    "        f.write(f\"{n},{N},{is_dependent},{A},{B},{res},{answer},{error}\\n\")\n",
    "\n",
    "        \n",
    "n = 10000\n",
    "N = 1000000\n",
    "        \n",
    "A_range = 2 ** np.arange(8)[1:]\n",
    "B_range = 4 ** np.arange(7)\n",
    "\n",
    "print(A_range,A_range.shape)\n",
    "print(B_range,B_range.shape)\n",
    "\n",
    "\n",
    "for is_dependent in['dependent','independent']:\n",
    "    test_file = f\"{n}-{N}-{is_dependent}-radom\"\n",
    "    print(test_file)\n",
    "    for A in A_range:\n",
    "        for B in B_range:\n",
    "            print(\"l2\",test_file,n,N,is_dependent,A,B)\n",
    "            test_l2(test_file,n,N,is_dependent,A,B)\n",
    "\n"
   ]
  },
  {
   "cell_type": "code",
   "execution_count": null,
   "id": "1c417b19-acef-4f9d-8879-8cf80b79c279",
   "metadata": {},
   "outputs": [],
   "source": []
  }
 ],
 "metadata": {
  "kernelspec": {
   "display_name": "Python 3 (ipykernel)",
   "language": "python",
   "name": "python3"
  },
  "language_info": {
   "codemirror_mode": {
    "name": "ipython",
    "version": 3
   },
   "file_extension": ".py",
   "mimetype": "text/x-python",
   "name": "python",
   "nbconvert_exporter": "python",
   "pygments_lexer": "ipython3",
   "version": "3.9.7"
  }
 },
 "nbformat": 4,
 "nbformat_minor": 5
}
