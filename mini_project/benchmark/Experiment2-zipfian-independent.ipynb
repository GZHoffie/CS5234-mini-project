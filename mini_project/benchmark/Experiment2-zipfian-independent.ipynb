{
 "cells": [
  {
   "cell_type": "markdown",
   "metadata": {},
   "source": [
    "# Experiment 2\n",
    "\n",
    "Comparing the counter matrix algorithm and sketching of sketches algorithm."
   ]
  },
  {
   "cell_type": "code",
   "execution_count": 1,
   "metadata": {},
   "outputs": [
    {
     "name": "stdout",
     "output_type": "stream",
     "text": [
      "/Users/zhanghao/Projects/CS5234-mini-project\n"
     ]
    },
    {
     "data": {
      "text/plain": [
       "'/Users/zhanghao/Projects/CS5234-mini-project'"
      ]
     },
     "execution_count": 1,
     "metadata": {},
     "output_type": "execute_result"
    }
   ],
   "source": [
    "%cd ../..\n",
    "%pwd"
   ]
  },
  {
   "cell_type": "code",
   "execution_count": 2,
   "metadata": {},
   "outputs": [],
   "source": [
    "import numpy as np\n",
    "from mini_project.algorithms.counter_matrix import L2Estimator as CMEstimator\n",
    "from mini_project.algorithms.sketching_sketches import L2Estimator as SSEstimator\n",
    "from mini_project.utils import check_error"
   ]
  },
  {
   "cell_type": "markdown",
   "metadata": {},
   "source": [
    "## Setting hyper parameters"
   ]
  },
  {
   "cell_type": "code",
   "execution_count": 3,
   "metadata": {},
   "outputs": [],
   "source": [
    "num_experiments = 5           # Number of experiments for each parameter\n",
    "A = np.linspace(2, 20, 10, dtype=int)   # Values of A to take in the counter matrix\n",
    "A_ = A ** 2                    # Values of A in the sketching of sketches algorithm"
   ]
  },
  {
   "cell_type": "code",
   "execution_count": 4,
   "metadata": {},
   "outputs": [
    {
     "data": {
      "text/plain": [
       "array([ 2,  4,  6,  8, 10, 12, 14, 16, 18, 20])"
      ]
     },
     "execution_count": 4,
     "metadata": {},
     "output_type": "execute_result"
    }
   ],
   "source": [
    "A"
   ]
  },
  {
   "cell_type": "markdown",
   "metadata": {},
   "source": [
    "## Experiment for Counter matrix"
   ]
  },
  {
   "cell_type": "code",
   "execution_count": 5,
   "metadata": {},
   "outputs": [
    {
     "name": "stdout",
     "output_type": "stream",
     "text": [
      "variance: 0.0\n",
      "Estimator result: 0.0012840640599999786\n",
      "Answer: 0.000994022670112873\n",
      "variance: 0.0\n",
      "Estimator result: 0.0003121158400000157\n",
      "Answer: 0.000994022670112873\n",
      "variance: 0.0\n",
      "Estimator result: 0.0005835514079999549\n",
      "Answer: 0.000994022670112873\n",
      "variance: 0.0\n",
      "Estimator result: 0.000839512580000007\n",
      "Answer: 0.000994022670112873\n",
      "variance: 0.0\n",
      "Estimator result: 0.0004730692159999883\n",
      "Answer: 0.000994022670112873\n",
      "variance: 0.0\n",
      "Estimator result: 0.001124335221047669\n",
      "Answer: 0.000994022670112873\n",
      "variance: 0.0\n",
      "Estimator result: 0.0008301693851167508\n",
      "Answer: 0.000994022670112873\n",
      "variance: 0.0\n",
      "Estimator result: 0.0006268290485290947\n",
      "Answer: 0.000994022670112873\n",
      "variance: 0.0\n",
      "Estimator result: 0.0007850544073315214\n",
      "Answer: 0.000994022670112873\n",
      "variance: 0.0\n",
      "Estimator result: 0.0015033147152490052\n",
      "Answer: 0.000994022670112873\n",
      "variance: 0.0\n",
      "Estimator result: 0.0008520290626305204\n",
      "Answer: 0.000994022670112873\n",
      "variance: 0.0\n",
      "Estimator result: 0.0009142976075263534\n",
      "Answer: 0.000994022670112873\n",
      "variance: 0.0\n",
      "Estimator result: 0.0008635824148826263\n",
      "Answer: 0.000994022670112873\n",
      "variance: 0.0\n",
      "Estimator result: 0.001062378547533351\n",
      "Answer: 0.000994022670112873\n",
      "variance: 0.0\n",
      "Estimator result: 0.0008041411794205028\n",
      "Answer: 0.000994022670112873\n",
      "variance: 0.0\n",
      "Estimator result: 0.000998291776272763\n",
      "Answer: 0.000994022670112873\n",
      "variance: 0.0\n",
      "Estimator result: 0.0008447599993565173\n",
      "Answer: 0.000994022670112873\n",
      "variance: 0.0\n",
      "Estimator result: 0.0009209248661037327\n",
      "Answer: 0.000994022670112873\n",
      "variance: 0.0\n",
      "Estimator result: 0.0009084949058427987\n",
      "Answer: 0.000994022670112873\n",
      "variance: 0.0\n",
      "Estimator result: 0.0011498912061963294\n",
      "Answer: 0.000994022670112873\n",
      "variance: 0.0\n",
      "Estimator result: 0.0009778420981660131\n",
      "Answer: 0.000994022670112873\n",
      "variance: 0.0\n",
      "Estimator result: 0.000983090658723148\n",
      "Answer: 0.000994022670112873\n",
      "variance: 0.0\n",
      "Estimator result: 0.001053530513881681\n",
      "Answer: 0.000994022670112873\n",
      "variance: 0.0\n",
      "Estimator result: 0.0010600052166812876\n",
      "Answer: 0.000994022670112873\n",
      "variance: 0.0\n",
      "Estimator result: 0.0008824434046040982\n",
      "Answer: 0.000994022670112873\n",
      "variance: 0.0\n",
      "Estimator result: 0.0010349155306036751\n",
      "Answer: 0.000994022670112873\n",
      "variance: 0.0\n",
      "Estimator result: 0.0009467154857909432\n",
      "Answer: 0.000994022670112873\n",
      "variance: 0.0\n",
      "Estimator result: 0.000994547975665645\n",
      "Answer: 0.000994022670112873\n",
      "variance: 0.0\n",
      "Estimator result: 0.0010682580373478725\n",
      "Answer: 0.000994022670112873\n",
      "variance: 0.0\n",
      "Estimator result: 0.0009726109409077663\n",
      "Answer: 0.000994022670112873\n",
      "variance: 0.0\n",
      "Estimator result: 0.0009519769088480378\n",
      "Answer: 0.000994022670112873\n",
      "variance: 0.0\n",
      "Estimator result: 0.0010769486343047891\n",
      "Answer: 0.000994022670112873\n",
      "variance: 0.0\n",
      "Estimator result: 0.0008958614081493288\n",
      "Answer: 0.000994022670112873\n",
      "variance: 0.0\n",
      "Estimator result: 0.0009790167786977175\n",
      "Answer: 0.000994022670112873\n",
      "variance: 0.0\n",
      "Estimator result: 0.001055322319330358\n",
      "Answer: 0.000994022670112873\n",
      "variance: 0.0\n",
      "Estimator result: 0.0010729324225662125\n",
      "Answer: 0.000994022670112873\n",
      "variance: 0.0\n",
      "Estimator result: 0.0010018193754601009\n",
      "Answer: 0.000994022670112873\n",
      "variance: 0.0\n",
      "Estimator result: 0.0009771378924859151\n",
      "Answer: 0.000994022670112873\n",
      "variance: 0.0\n",
      "Estimator result: 0.0010911023808438524\n",
      "Answer: 0.000994022670112873\n",
      "variance: 0.0\n",
      "Estimator result: 0.0009998917290248944\n",
      "Answer: 0.000994022670112873\n",
      "variance: 0.0\n",
      "Estimator result: 0.0009450963883704374\n",
      "Answer: 0.000994022670112873\n",
      "variance: 0.0\n",
      "Estimator result: 0.0010678336782307556\n",
      "Answer: 0.000994022670112873\n",
      "variance: 0.0\n",
      "Estimator result: 0.0009690874458593598\n",
      "Answer: 0.000994022670112873\n",
      "variance: 0.0\n",
      "Estimator result: 0.0010475741863266185\n",
      "Answer: 0.000994022670112873\n",
      "variance: 0.0\n",
      "Estimator result: 0.0010194834543465858\n",
      "Answer: 0.000994022670112873\n",
      "variance: 0.0\n",
      "Estimator result: 0.0009572131149887905\n",
      "Answer: 0.000994022670112873\n",
      "variance: 0.0\n",
      "Estimator result: 0.0010065123757967832\n",
      "Answer: 0.000994022670112873\n",
      "variance: 0.0\n",
      "Estimator result: 0.0010646915509212736\n",
      "Answer: 0.000994022670112873\n",
      "variance: 0.0\n",
      "Estimator result: 0.0009377064196267892\n",
      "Answer: 0.000994022670112873\n",
      "variance: 0.0\n",
      "Estimator result: 0.0010020334845038997\n",
      "Answer: 0.000994022670112873\n"
     ]
    }
   ],
   "source": [
    "TEST_FILE = \"10000-1000000-independent-zipfian\"\n",
    "error_counter_matrix = np.zeros(len(A))\n",
    "\n",
    "for i, a in enumerate(A):\n",
    "    error_array = np.zeros(num_experiments)\n",
    "    for j in range(num_experiments):\n",
    "        estimator = CMEstimator(A=a, B=1)\n",
    "        _, _, error = check_error(estimator, TEST_FILE, metric=\"l2\")\n",
    "        error_array[j] = error\n",
    "    \n",
    "    error_counter_matrix[i] = np.mean(error_array)"
   ]
  },
  {
   "cell_type": "code",
   "execution_count": 6,
   "metadata": {},
   "outputs": [
    {
     "data": {
      "text/plain": [
       "array([0.41405153, 0.27758316, 0.12281335, 0.09416805, 0.05315417,\n",
       "       0.03709623, 0.06024783, 0.0415564 , 0.04560959, 0.03708068])"
      ]
     },
     "execution_count": 6,
     "metadata": {},
     "output_type": "execute_result"
    }
   ],
   "source": [
    "error_counter_matrix"
   ]
  },
  {
   "cell_type": "code",
   "execution_count": 7,
   "metadata": {},
   "outputs": [
    {
     "name": "stdout",
     "output_type": "stream",
     "text": [
      "variance: 0.0\n",
      "Estimator result: 0.0009433262642043115\n",
      "Answer: 0.000994022670112873\n",
      "variance: 0.0\n",
      "Estimator result: 0.000903359837475165\n",
      "Answer: 0.000994022670112873\n",
      "variance: 0.0\n",
      "Estimator result: 0.001050761542266198\n",
      "Answer: 0.000994022670112873\n",
      "variance: 0.0\n",
      "Estimator result: 0.0014896376845036606\n",
      "Answer: 0.000994022670112873\n",
      "variance: 0.0\n",
      "Estimator result: 0.0011705989912773138\n",
      "Answer: 0.000994022670112873\n",
      "variance: 0.0\n",
      "Estimator result: 0.0012865438192798935\n",
      "Answer: 0.000994022670112873\n",
      "variance: 0.0\n",
      "Estimator result: 0.0011847768271821802\n",
      "Answer: 0.000994022670112873\n",
      "variance: 0.0\n",
      "Estimator result: 0.0007316937075400423\n",
      "Answer: 0.000994022670112873\n",
      "variance: 0.0\n",
      "Estimator result: 0.00097780993523806\n",
      "Answer: 0.000994022670112873\n",
      "variance: 0.0\n",
      "Estimator result: 0.0009633061834920336\n",
      "Answer: 0.000994022670112873\n",
      "variance: 0.0\n",
      "Estimator result: 0.0009553180818864279\n",
      "Answer: 0.000994022670112873\n",
      "variance: 0.0\n",
      "Estimator result: 0.000983924673165535\n",
      "Answer: 0.000994022670112873\n",
      "variance: 0.0\n",
      "Estimator result: 0.0008286937628387368\n",
      "Answer: 0.000994022670112873\n",
      "variance: 0.0\n",
      "Estimator result: 0.0008989454722847572\n",
      "Answer: 0.000994022670112873\n",
      "variance: 0.0\n",
      "Estimator result: 0.0008223339761549725\n",
      "Answer: 0.000994022670112873\n",
      "variance: 0.0\n",
      "Estimator result: 0.0009603437535586263\n",
      "Answer: 0.000994022670112873\n",
      "variance: 0.0\n",
      "Estimator result: 0.0009796276172501783\n",
      "Answer: 0.000994022670112873\n",
      "variance: 0.0\n",
      "Estimator result: 0.0009573432626224138\n",
      "Answer: 0.000994022670112873\n",
      "variance: 0.0\n",
      "Estimator result: 0.0010011754922047305\n",
      "Answer: 0.000994022670112873\n",
      "variance: 0.0\n",
      "Estimator result: 0.0010277889234069047\n",
      "Answer: 0.000994022670112873\n",
      "variance: 0.0\n",
      "Estimator result: 0.0010075378711091652\n",
      "Answer: 0.000994022670112873\n",
      "variance: 0.0\n",
      "Estimator result: 0.0009554614764787623\n",
      "Answer: 0.000994022670112873\n",
      "variance: 0.0\n",
      "Estimator result: 0.0009338023760599153\n",
      "Answer: 0.000994022670112873\n",
      "variance: 0.0\n",
      "Estimator result: 0.0010697286729735153\n",
      "Answer: 0.000994022670112873\n",
      "variance: 0.0\n",
      "Estimator result: 0.0010924462699164602\n",
      "Answer: 0.000994022670112873\n",
      "variance: 0.0\n",
      "Estimator result: 0.0010615794898656413\n",
      "Answer: 0.000994022670112873\n",
      "variance: 0.0\n",
      "Estimator result: 0.0009285459507512359\n",
      "Answer: 0.000994022670112873\n",
      "variance: 0.0\n",
      "Estimator result: 0.001004491476697782\n",
      "Answer: 0.000994022670112873\n",
      "variance: 0.0\n",
      "Estimator result: 0.0009059180169153717\n",
      "Answer: 0.000994022670112873\n",
      "variance: 0.0\n",
      "Estimator result: 0.0009972531512831878\n",
      "Answer: 0.000994022670112873\n",
      "variance: 0.0\n",
      "Estimator result: 0.0010059723010111229\n",
      "Answer: 0.000994022670112873\n",
      "variance: 0.0\n",
      "Estimator result: 0.0009781574963322226\n",
      "Answer: 0.000994022670112873\n",
      "variance: 0.0\n",
      "Estimator result: 0.000908347683435974\n",
      "Answer: 0.000994022670112873\n",
      "variance: 0.0\n",
      "Estimator result: 0.0010542905885357384\n",
      "Answer: 0.000994022670112873\n",
      "variance: 0.0\n",
      "Estimator result: 0.0009545673184002155\n",
      "Answer: 0.000994022670112873\n",
      "variance: 0.0\n",
      "Estimator result: 0.0010979961548556018\n",
      "Answer: 0.000994022670112873\n",
      "variance: 0.0\n",
      "Estimator result: 0.0009566918238035917\n",
      "Answer: 0.000994022670112873\n",
      "variance: 0.0\n",
      "Estimator result: 0.0009383933151394798\n",
      "Answer: 0.000994022670112873\n",
      "variance: 0.0\n",
      "Estimator result: 0.0010411898281134247\n",
      "Answer: 0.000994022670112873\n",
      "variance: 0.0\n",
      "Estimator result: 0.0010578349221792374\n",
      "Answer: 0.000994022670112873\n",
      "variance: 0.0\n",
      "Estimator result: 0.0009978320320181472\n",
      "Answer: 0.000994022670112873\n",
      "variance: 0.0\n",
      "Estimator result: 0.0010086194829197882\n",
      "Answer: 0.000994022670112873\n",
      "variance: 0.0\n",
      "Estimator result: 0.0010711587521019487\n",
      "Answer: 0.000994022670112873\n",
      "variance: 0.0\n",
      "Estimator result: 0.0010103126951458447\n",
      "Answer: 0.000994022670112873\n",
      "variance: 0.0\n",
      "Estimator result: 0.0009893746573856775\n",
      "Answer: 0.000994022670112873\n",
      "variance: 0.0\n",
      "Estimator result: 0.0009470016909649934\n",
      "Answer: 0.000994022670112873\n",
      "variance: 0.0\n",
      "Estimator result: 0.0009611248073173008\n",
      "Answer: 0.000994022670112873\n",
      "variance: 0.0\n",
      "Estimator result: 0.001028972071713917\n",
      "Answer: 0.000994022670112873\n",
      "variance: 0.0\n",
      "Estimator result: 0.0009610947536545372\n",
      "Answer: 0.000994022670112873\n",
      "variance: 0.0\n",
      "Estimator result: 0.001036314960259689\n",
      "Answer: 0.000994022670112873\n"
     ]
    }
   ],
   "source": [
    "error_sketch_sketches = np.zeros(len(A))\n",
    "\n",
    "for i, a in enumerate(A_):\n",
    "    error_array = np.zeros(num_experiments)\n",
    "    for j in range(num_experiments):\n",
    "        estimator = SSEstimator(A=a, B=1)\n",
    "        _, _, error = check_error(estimator, TEST_FILE, metric=\"l2\")\n",
    "        error_array[j] = error\n",
    "    \n",
    "    error_sketch_sketches[i] = np.mean(error_array)"
   ]
  },
  {
   "cell_type": "code",
   "execution_count": 8,
   "metadata": {},
   "outputs": [
    {
     "data": {
      "text/plain": [
       "array([0.17510455, 0.15945984, 0.09675783, 0.02528563, 0.05762973,\n",
       "       0.04724992, 0.04289903])"
      ]
     },
     "execution_count": 8,
     "metadata": {},
     "output_type": "execute_result"
    }
   ],
   "source": [
    "error_sketch_sketches[0:7]"
   ]
  },
  {
   "cell_type": "code",
   "execution_count": 12,
   "metadata": {},
   "outputs": [
    {
     "data": {
      "image/png": "[encoded data removed]",
      "text/plain": [
       "<Figure size 432x288 with 1 Axes>"
      ]
     },
     "metadata": {
      "needs_background": "light"
     },
     "output_type": "display_data"
    }
   ],
   "source": [
    "import matplotlib.pyplot as plt\n",
    "\n",
    "x_axis = (np.arange(10) + 1) *2\n",
    "\n",
    "plt.plot(x_axis, np.log10(error_sketch_sketches), label='Sketching of sketches')\n",
    "plt.plot(x_axis, np.log10(error_counter_matrix), label='Counter matrix')\n",
    "\n",
    "plt.title('Relative Error')\n",
    "plt.xlabel('A')\n",
    "plt.ylabel('log_10(epsilon)')\n",
    "plt.legend()\n",
    "plt.savefig('./independent_zipfian_compare.pdf')"
   ]
  },
  {
   "cell_type": "code",
   "execution_count": 11,
   "metadata": {},
   "outputs": [
    {
     "data": {
      "image/png": "[encoded data removed]",
      "text/plain": [
       "<Figure size 432x288 with 1 Axes>"
      ]
     },
     "metadata": {
      "needs_background": "light"
     },
     "output_type": "display_data"
    }
   ],
   "source": [
    "import matplotlib.pyplot as plt\n",
    "\n",
    "x_axis = (np.arange(10) + 1) \n",
    "\n",
    "plt.plot(x_axis, np.log10(error_sketch_sketches), label='Sketching of sketches')\n",
    "plt.plot(x_axis, np.log10(error_counter_matrix), label='Counter matrix')\n",
    "\n",
    "plt.title('Relative Error')\n",
    "plt.xlabel('A')\n",
    "plt.ylabel('log_10(epsilon)')\n",
    "plt.legend()\n",
    "plt.savefig('./independent_zipfian_compare.pdf')"
   ]
  },
  {
   "cell_type": "code",
   "execution_count": null,
   "metadata": {},
   "outputs": [],
   "source": []
  }
 ],
 "metadata": {
  "interpreter": {
   "hash": "6fcc9c4e1c526172d6677b6807131d1f0dde85ba4c7f4a8abebe5549adc012d3"
  },
  "kernelspec": {
   "display_name": "Python 3 (ipykernel)",
   "language": "python",
   "name": "python3"
  },
  "language_info": {
   "codemirror_mode": {
    "name": "ipython",
    "version": 3
   },
   "file_extension": ".py",
   "mimetype": "text/x-python",
   "name": "python",
   "nbconvert_exporter": "python",
   "pygments_lexer": "ipython3",
   "version": "3.9.7"
  }
 },
 "nbformat": 4,
 "nbformat_minor": 4
}
