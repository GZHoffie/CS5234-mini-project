{
 "cells": [
  {
   "cell_type": "markdown",
   "metadata": {},
   "source": [
    "# Experiment 2\n",
    "\n",
    "Comparing the counter matrix algorithm and sketching of sketches algorithm."
   ]
  },
  {
   "cell_type": "code",
   "execution_count": 1,
   "metadata": {},
   "outputs": [
    {
     "name": "stdout",
     "output_type": "stream",
     "text": [
      "/Users/zhanghao/Projects/CS5234-mini-project\n"
     ]
    },
    {
     "data": {
      "text/plain": [
       "'/Users/zhanghao/Projects/CS5234-mini-project'"
      ]
     },
     "execution_count": 1,
     "metadata": {},
     "output_type": "execute_result"
    }
   ],
   "source": [
    "%cd ../..\n",
    "%pwd"
   ]
  },
  {
   "cell_type": "code",
   "execution_count": 2,
   "metadata": {},
   "outputs": [],
   "source": [
    "import numpy as np\n",
    "from mini_project.algorithms.counter_matrix import L2Estimator as CMEstimator\n",
    "from mini_project.algorithms.sketching_sketches import L2Estimator as SSEstimator\n",
    "from mini_project.utils import check_error"
   ]
  },
  {
   "cell_type": "markdown",
   "metadata": {},
   "source": [
    "## Setting hyper parameters"
   ]
  },
  {
   "cell_type": "code",
   "execution_count": 3,
   "metadata": {},
   "outputs": [],
   "source": [
    "num_experiments = 5           # Number of experiments for each parameter\n",
    "A = np.linspace(2, 20, 10, dtype=int)   # Values of A to take in the counter matrix\n",
    "A_ = A ** 2                    # Values of A in the sketching of sketches algorithm"
   ]
  },
  {
   "cell_type": "code",
   "execution_count": 4,
   "metadata": {},
   "outputs": [
    {
     "data": {
      "text/plain": [
       "array([ 2,  4,  6,  8, 10, 12, 14, 16, 18, 20])"
      ]
     },
     "execution_count": 4,
     "metadata": {},
     "output_type": "execute_result"
    }
   ],
   "source": [
    "A"
   ]
  },
  {
   "cell_type": "markdown",
   "metadata": {},
   "source": [
    "## Experiment for Counter matrix"
   ]
  },
  {
   "cell_type": "code",
   "execution_count": 5,
   "metadata": {},
   "outputs": [
    {
     "name": "stdout",
     "output_type": "stream",
     "text": [
      "variance: 0.0\n",
      "Estimator result: 0.12282638976000004\n",
      "Answer: 0.0651095740530614\n",
      "variance: 0.0\n",
      "Estimator result: 0.13386651443200004\n",
      "Answer: 0.0651095740530614\n",
      "variance: 0.0\n",
      "Estimator result: 0.037432426632\n",
      "Answer: 0.0651095740530614\n",
      "variance: 0.0\n",
      "Estimator result: 0.09754598484000013\n",
      "Answer: 0.0651095740530614\n",
      "variance: 0.0\n",
      "Estimator result: 0.07639261507600004\n",
      "Answer: 0.0651095740530614\n",
      "variance: 0.0\n",
      "Estimator result: 0.04930720355476665\n",
      "Answer: 0.0651095740530614\n",
      "variance: 0.0\n",
      "Estimator result: 0.07235887839071727\n",
      "Answer: 0.0651095740530614\n",
      "variance: 0.0\n",
      "Estimator result: 0.06561498295593343\n",
      "Answer: 0.0651095740530614\n",
      "variance: 0.0\n",
      "Estimator result: 0.0658468706427259\n",
      "Answer: 0.0651095740530614\n",
      "variance: 0.0\n",
      "Estimator result: 0.06989115919247756\n",
      "Answer: 0.0651095740530614\n",
      "variance: 0.0\n",
      "Estimator result: 0.05739637594195508\n",
      "Answer: 0.0651095740530614\n",
      "variance: 0.0\n",
      "Estimator result: 0.062291399114026265\n",
      "Answer: 0.0651095740530614\n",
      "variance: 0.0\n",
      "Estimator result: 0.0692544462349773\n",
      "Answer: 0.0651095740530614\n",
      "variance: 0.0\n",
      "Estimator result: 0.060235539863992375\n",
      "Answer: 0.0651095740530614\n",
      "variance: 0.0\n",
      "Estimator result: 0.06739910706320357\n",
      "Answer: 0.0651095740530614\n",
      "variance: 0.0\n",
      "Estimator result: 0.06029662888103821\n",
      "Answer: 0.0651095740530614\n",
      "variance: 0.0\n",
      "Estimator result: 0.07390188624861173\n",
      "Answer: 0.0651095740530614\n",
      "variance: 0.0\n",
      "Estimator result: 0.06500787667917711\n",
      "Answer: 0.0651095740530614\n",
      "variance: 0.0\n",
      "Estimator result: 0.06555354226579267\n",
      "Answer: 0.0651095740530614\n",
      "variance: 0.0\n",
      "Estimator result: 0.06307922939910461\n",
      "Answer: 0.0651095740530614\n",
      "variance: 0.0\n",
      "Estimator result: 0.06801311318277496\n",
      "Answer: 0.0651095740530614\n",
      "variance: 0.0\n",
      "Estimator result: 0.06558287322366475\n",
      "Answer: 0.0651095740530614\n",
      "variance: 0.0\n",
      "Estimator result: 0.0610933716610919\n",
      "Answer: 0.0651095740530614\n",
      "variance: 0.0\n",
      "Estimator result: 0.06257467558700552\n",
      "Answer: 0.0651095740530614\n",
      "variance: 0.0\n",
      "Estimator result: 0.06462911079897282\n",
      "Answer: 0.0651095740530614\n",
      "variance: 0.0\n",
      "Estimator result: 0.06085148113378645\n",
      "Answer: 0.0651095740530614\n",
      "variance: 0.0\n",
      "Estimator result: 0.06763935517843822\n",
      "Answer: 0.0651095740530614\n",
      "variance: 0.0\n",
      "Estimator result: 0.06625011130252828\n",
      "Answer: 0.0651095740530614\n",
      "variance: 0.0\n",
      "Estimator result: 0.06643090040207777\n",
      "Answer: 0.0651095740530614\n",
      "variance: 0.0\n",
      "Estimator result: 0.07146446516132034\n",
      "Answer: 0.0651095740530614\n",
      "variance: 0.0\n",
      "Estimator result: 0.06562727933700686\n",
      "Answer: 0.0651095740530614\n",
      "variance: 0.0\n",
      "Estimator result: 0.06416529183763359\n",
      "Answer: 0.0651095740530614\n",
      "variance: 0.0\n",
      "Estimator result: 0.06423017235070146\n",
      "Answer: 0.0651095740530614\n",
      "variance: 0.0\n",
      "Estimator result: 0.06411593449504721\n",
      "Answer: 0.0651095740530614\n",
      "variance: 0.0\n",
      "Estimator result: 0.06486152969480805\n",
      "Answer: 0.0651095740530614\n",
      "variance: 0.0\n",
      "Estimator result: 0.06724493436775465\n",
      "Answer: 0.0651095740530614\n",
      "variance: 0.0\n",
      "Estimator result: 0.06508393580065387\n",
      "Answer: 0.0651095740530614\n",
      "variance: 0.0\n",
      "Estimator result: 0.0683704664605136\n",
      "Answer: 0.0651095740530614\n",
      "variance: 0.0\n",
      "Estimator result: 0.06832154039427786\n",
      "Answer: 0.0651095740530614\n",
      "variance: 0.0\n",
      "Estimator result: 0.06540377566699232\n",
      "Answer: 0.0651095740530614\n",
      "variance: 0.0\n",
      "Estimator result: 0.06493725816427498\n",
      "Answer: 0.0651095740530614\n",
      "variance: 0.0\n",
      "Estimator result: 0.06502802658454729\n",
      "Answer: 0.0651095740530614\n",
      "variance: 0.0\n",
      "Estimator result: 0.06705743827739892\n",
      "Answer: 0.0651095740530614\n",
      "variance: 0.0\n",
      "Estimator result: 0.0625593912893533\n",
      "Answer: 0.0651095740530614\n",
      "variance: 0.0\n",
      "Estimator result: 0.06986243403140464\n",
      "Answer: 0.0651095740530614\n",
      "variance: 0.0\n",
      "Estimator result: 0.06613429468366698\n",
      "Answer: 0.0651095740530614\n",
      "variance: 0.0\n",
      "Estimator result: 0.07037338760921108\n",
      "Answer: 0.0651095740530614\n",
      "variance: 0.0\n",
      "Estimator result: 0.0663631031482385\n",
      "Answer: 0.0651095740530614\n",
      "variance: 0.0\n",
      "Estimator result: 0.06520171013562312\n",
      "Answer: 0.0651095740530614\n",
      "variance: 0.0\n",
      "Estimator result: 0.06496663623888832\n",
      "Answer: 0.0651095740530614\n"
     ]
    }
   ],
   "source": [
    "TEST_FILE = \"10000-1000000-dependent-zipfian\"\n",
    "error_counter_matrix = np.zeros(len(A))\n",
    "\n",
    "for i, a in enumerate(A):\n",
    "    error_array = np.zeros(num_experiments)\n",
    "    for j in range(num_experiments):\n",
    "        estimator = CMEstimator(A=a, B=1)\n",
    "        _, _, error = check_error(estimator, TEST_FILE, metric=\"l2\")\n",
    "        error_array[j] = error\n",
    "    \n",
    "    error_counter_matrix[i] = np.mean(error_array)"
   ]
  },
  {
   "cell_type": "code",
   "execution_count": 6,
   "metadata": {},
   "outputs": [
    {
     "data": {
      "text/plain": [
       "array([0.60780725, 0.08931395, 0.06708633, 0.04970473, 0.03197196,\n",
       "       0.04793344, 0.01100629, 0.02742472, 0.02919623, 0.02388938])"
      ]
     },
     "execution_count": 6,
     "metadata": {},
     "output_type": "execute_result"
    }
   ],
   "source": [
    "error_counter_matrix"
   ]
  },
  {
   "cell_type": "code",
   "execution_count": 7,
   "metadata": {},
   "outputs": [
    {
     "name": "stdout",
     "output_type": "stream",
     "text": [
      "variance: 0.0\n",
      "Estimator result: 0.04769452787029296\n",
      "Answer: 0.0651095740530614\n",
      "variance: 0.0\n",
      "Estimator result: 0.040005573910110004\n",
      "Answer: 0.0651095740530614\n",
      "variance: 0.0\n",
      "Estimator result: 0.05690308736159901\n",
      "Answer: 0.0651095740530614\n",
      "variance: 0.0\n",
      "Estimator result: 0.06394453314299221\n",
      "Answer: 0.0651095740530614\n",
      "variance: 0.0\n",
      "Estimator result: 0.06296866127693397\n",
      "Answer: 0.0651095740530614\n",
      "variance: 0.0\n",
      "Estimator result: 0.06675850245603583\n",
      "Answer: 0.0651095740530614\n",
      "variance: 0.0\n",
      "Estimator result: 0.07349985322999579\n",
      "Answer: 0.0651095740530614\n",
      "variance: 0.0\n",
      "Estimator result: 0.06804253744665487\n",
      "Answer: 0.0651095740530614\n",
      "variance: 0.0\n",
      "Estimator result: 0.05883364003299191\n",
      "Answer: 0.0651095740530614\n",
      "variance: 0.0\n",
      "Estimator result: 0.058562876783880564\n",
      "Answer: 0.0651095740530614\n",
      "variance: 0.0\n",
      "Estimator result: 0.05313503979141066\n",
      "Answer: 0.0651095740530614\n",
      "variance: 0.0\n",
      "Estimator result: 0.0652670789198257\n",
      "Answer: 0.0651095740530614\n",
      "variance: 0.0\n",
      "Estimator result: 0.06261017107343837\n",
      "Answer: 0.0651095740530614\n",
      "variance: 0.0\n",
      "Estimator result: 0.07051816431166001\n",
      "Answer: 0.0651095740530614\n",
      "variance: 0.0\n",
      "Estimator result: 0.05405594515555009\n",
      "Answer: 0.0651095740530614\n",
      "variance: 0.0\n",
      "Estimator result: 0.06279289708055236\n",
      "Answer: 0.0651095740530614\n",
      "variance: 0.0\n",
      "Estimator result: 0.06470757463802096\n",
      "Answer: 0.0651095740530614\n",
      "variance: 0.0\n",
      "Estimator result: 0.06295248689943837\n",
      "Answer: 0.0651095740530614\n",
      "variance: 0.0\n",
      "Estimator result: 0.07276293454008265\n",
      "Answer: 0.0651095740530614\n",
      "variance: 0.0\n",
      "Estimator result: 0.053222697916148316\n",
      "Answer: 0.0651095740530614\n",
      "variance: 0.0\n",
      "Estimator result: 0.06801380039955898\n",
      "Answer: 0.0651095740530614\n",
      "variance: 0.0\n",
      "Estimator result: 0.06774310424644518\n",
      "Answer: 0.0651095740530614\n",
      "variance: 0.0\n",
      "Estimator result: 0.06095045804790505\n",
      "Answer: 0.0651095740530614\n",
      "variance: 0.0\n",
      "Estimator result: 0.06282961638330818\n",
      "Answer: 0.0651095740530614\n",
      "variance: 0.0\n",
      "Estimator result: 0.06824967956024212\n",
      "Answer: 0.0651095740530614\n",
      "variance: 0.0\n",
      "Estimator result: 0.06480056319820317\n",
      "Answer: 0.0651095740530614\n",
      "variance: 0.0\n",
      "Estimator result: 0.06840529732041015\n",
      "Answer: 0.0651095740530614\n",
      "variance: 0.0\n",
      "Estimator result: 0.06735426197725108\n",
      "Answer: 0.0651095740530614\n",
      "variance: 0.0\n",
      "Estimator result: 0.06786402283734363\n",
      "Answer: 0.0651095740530614\n",
      "variance: 0.0\n",
      "Estimator result: 0.06402074660710871\n",
      "Answer: 0.0651095740530614\n",
      "variance: 0.0\n",
      "Estimator result: 0.05912982676195512\n",
      "Answer: 0.0651095740530614\n",
      "variance: 0.0\n",
      "Estimator result: 0.06271891549035742\n",
      "Answer: 0.0651095740530614\n",
      "variance: 0.0\n",
      "Estimator result: 0.06306118886740661\n",
      "Answer: 0.0651095740530614\n",
      "variance: 0.0\n",
      "Estimator result: 0.06249382198974497\n",
      "Answer: 0.0651095740530614\n",
      "variance: 0.0\n",
      "Estimator result: 0.06320087955651846\n",
      "Answer: 0.0651095740530614\n",
      "variance: 0.0\n",
      "Estimator result: 0.06339529667388058\n",
      "Answer: 0.0651095740530614\n",
      "variance: 0.0\n",
      "Estimator result: 0.0670373951045412\n",
      "Answer: 0.0651095740530614\n",
      "variance: 0.0\n",
      "Estimator result: 0.06149164949316645\n",
      "Answer: 0.0651095740530614\n",
      "variance: 0.0\n",
      "Estimator result: 0.06642458424793123\n",
      "Answer: 0.0651095740530614\n",
      "variance: 0.0\n",
      "Estimator result: 0.06250759005764643\n",
      "Answer: 0.0651095740530614\n",
      "variance: 0.0\n",
      "Estimator result: 0.06312148980298203\n",
      "Answer: 0.0651095740530614\n",
      "variance: 0.0\n",
      "Estimator result: 0.061184763036841526\n",
      "Answer: 0.0651095740530614\n",
      "variance: 0.0\n",
      "Estimator result: 0.06419260020659026\n",
      "Answer: 0.0651095740530614\n",
      "variance: 0.0\n",
      "Estimator result: 0.06973775340003527\n",
      "Answer: 0.0651095740530614\n",
      "variance: 0.0\n",
      "Estimator result: 0.06547676469453971\n",
      "Answer: 0.0651095740530614\n",
      "variance: 0.0\n",
      "Estimator result: 0.06613235853031557\n",
      "Answer: 0.0651095740530614\n",
      "variance: 0.0\n",
      "Estimator result: 0.0645718424981903\n",
      "Answer: 0.0651095740530614\n",
      "variance: 0.0\n",
      "Estimator result: 0.06284176746759045\n",
      "Answer: 0.0651095740530614\n",
      "variance: 0.0\n",
      "Estimator result: 0.0638353604376269\n",
      "Answer: 0.0651095740530614\n",
      "variance: 0.0\n",
      "Estimator result: 0.06676618551155147\n",
      "Answer: 0.0651095740530614\n"
     ]
    }
   ],
   "source": [
    "error_sketch_sketches = np.zeros(len(A))\n",
    "\n",
    "for i, a in enumerate(A_):\n",
    "    error_array = np.zeros(num_experiments)\n",
    "    for j in range(num_experiments):\n",
    "        estimator = SSEstimator(A=a, B=1)\n",
    "        _, _, error = check_error(estimator, TEST_FILE, metric=\"l2\")\n",
    "        error_array[j] = error\n",
    "    \n",
    "    error_sketch_sketches[i] = np.mean(error_array)"
   ]
  },
  {
   "cell_type": "code",
   "execution_count": 8,
   "metadata": {},
   "outputs": [
    {
     "data": {
      "text/plain": [
       "array([0.16597094, 0.07923505, 0.09551179, 0.07499972, 0.04643537,\n",
       "       0.0297735 , 0.04590181])"
      ]
     },
     "execution_count": 8,
     "metadata": {},
     "output_type": "execute_result"
    }
   ],
   "source": [
    "error_sketch_sketches[0:7]"
   ]
  },
  {
   "cell_type": "code",
   "execution_count": 12,
   "metadata": {},
   "outputs": [
    {
     "data": {
      "image/png": "[encoded data removed]",
      "text/plain": [
       "<Figure size 432x288 with 1 Axes>"
      ]
     },
     "metadata": {
      "needs_background": "light"
     },
     "output_type": "display_data"
    }
   ],
   "source": [
    "import matplotlib.pyplot as plt\n",
    "\n",
    "x_axis = (np.arange(10) + 1) *2\n",
    "\n",
    "plt.plot(x_axis, np.log10(error_sketch_sketches), label='Sketching of sketches')\n",
    "plt.plot(x_axis, np.log10(error_counter_matrix), label='Counter matrix')\n",
    "\n",
    "plt.title('Relative Error')\n",
    "plt.xlabel('A')\n",
    "plt.ylabel('log_10(epsilon)')\n",
    "plt.legend()\n",
    "plt.savefig('./dependent_zipfian_compare.pdf')"
   ]
  },
  {
   "cell_type": "code",
   "execution_count": 11,
   "metadata": {},
   "outputs": [
    {
     "data": {
      "image/png": "[encoded data removed]",
      "text/plain": [
       "<Figure size 432x288 with 1 Axes>"
      ]
     },
     "metadata": {
      "needs_background": "light"
     },
     "output_type": "display_data"
    }
   ],
   "source": [
    "import matplotlib.pyplot as plt\n",
    "\n",
    "x_axis = (np.arange(10) + 1)\n",
    "\n",
    "plt.plot(x_axis, np.log10(error_sketch_sketches), label='Sketching of sketches')\n",
    "plt.plot(x_axis, np.log10(error_counter_matrix), label='Counter matrix')\n",
    "\n",
    "plt.title('Relative Error')\n",
    "plt.xlabel('A')\n",
    "plt.ylabel('log_10(epsilon)')\n",
    "plt.legend()\n",
    "plt.savefig('./dependent_zipfian_compare.pdf')"
   ]
  },
  {
   "cell_type": "code",
   "execution_count": null,
   "metadata": {},
   "outputs": [],
   "source": []
  }
 ],
 "metadata": {
  "interpreter": {
   "hash": "6fcc9c4e1c526172d6677b6807131d1f0dde85ba4c7f4a8abebe5549adc012d3"
  },
  "kernelspec": {
   "display_name": "Python 3 (ipykernel)",
   "language": "python",
   "name": "python3"
  },
  "language_info": {
   "codemirror_mode": {
    "name": "ipython",
    "version": 3
   },
   "file_extension": ".py",
   "mimetype": "text/x-python",
   "name": "python",
   "nbconvert_exporter": "python",
   "pygments_lexer": "ipython3",
   "version": "3.9.7"
  }
 },
 "nbformat": 4,
 "nbformat_minor": 4
}
