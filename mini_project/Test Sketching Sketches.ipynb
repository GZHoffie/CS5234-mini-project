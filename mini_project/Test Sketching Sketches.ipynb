{
 "cells": [
  {
   "cell_type": "code",
   "execution_count": null,
   "id": "2ebf0008-9612-480f-aa9d-b160dfdb2a11",
   "metadata": {},
   "outputs": [
    {
     "name": "stdout",
     "output_type": "stream",
     "text": [
      "1000-10000-dependent\n",
      "l1 1000-10000-dependent 1000 10000 dependent 0.001 1000\n",
      "error: 2370.413067235287\n",
      "l1 1000-10000-dependent 1000 10000 dependent 0.001 4000\n",
      "error: 3363.3838118081267\n",
      "l1 1000-10000-dependent 1000 10000 dependent 0.001 7000\n",
      "error: 1710.320858108766\n",
      "l1 1000-10000-dependent 1000 10000 dependent 0.0001 1000\n",
      "error: 5515.112112370634\n",
      "l1 1000-10000-dependent 1000 10000 dependent 0.0001 4000\n",
      "error: 1349.652208550263\n",
      "l1 1000-10000-dependent 1000 10000 dependent 0.0001 7000\n",
      "error: 2329.6647599749745\n",
      "l1 1000-10000-dependent 1000 10000 dependent 1e-05 1000\n",
      "error: 4037.502365383613\n",
      "l1 1000-10000-dependent 1000 10000 dependent 1e-05 4000\n",
      "error: 1408.971724510449\n",
      "l1 1000-10000-dependent 1000 10000 dependent 1e-05 7000\n",
      "error: 4642.505336281719\n",
      "l1 1000-10000-dependent 1000 10000 dependent 1e-06 1000\n",
      "error: 1490.9682949500843\n",
      "l1 1000-10000-dependent 1000 10000 dependent 1e-06 4000\n",
      "error: 2037.913279548266\n",
      "l1 1000-10000-dependent 1000 10000 dependent 1e-06 7000\n",
      "error: 1282.7704604605397\n",
      "l1 1000-10000-dependent 1000 10000 dependent 1e-07 1000\n",
      "error: 4204.633721257904\n",
      "l1 1000-10000-dependent 1000 10000 dependent 1e-07 4000\n",
      "error: 2516.248500717264\n",
      "l1 1000-10000-dependent 1000 10000 dependent 1e-07 7000\n",
      "error: 1466.234370749475\n",
      "l1 1000-10000-dependent 1000 10000 dependent 1e-10 1000\n",
      "error: 1985.838141626514\n",
      "l1 1000-10000-dependent 1000 10000 dependent 1e-10 4000\n",
      "error: 2233.021753382078\n",
      "l1 1000-10000-dependent 1000 10000 dependent 1e-10 7000\n",
      "error: 1233.9675543169965\n",
      "l2 1000-10000-dependent 1000 10000 dependent 100 100\n",
      "error: 0.017498777895432527\n",
      "l2 1000-10000-dependent 1000 10000 dependent 100 400\n",
      "error: 0.004645515378437048\n",
      "l2 1000-10000-dependent 1000 10000 dependent 100 700\n",
      "error: 0.0007416841065438495\n",
      "l2 1000-10000-dependent 1000 10000 dependent 400 100\n",
      "error: 0.0018579273774907978\n",
      "l2 1000-10000-dependent 1000 10000 dependent 400 400\n",
      "error: 0.0010423526424716556\n",
      "l2 1000-10000-dependent 1000 10000 dependent 400 700\n",
      "error: 0.0010067654840608675\n",
      "l2 1000-10000-dependent 1000 10000 dependent 700 100\n",
      "error: 0.005723453759012953\n",
      "l2 1000-10000-dependent 1000 10000 dependent 700 400\n",
      "error: 0.0010746964991442676\n",
      "l2 1000-10000-dependent 1000 10000 dependent 700 700\n"
     ]
    }
   ],
   "source": [
    "from mini_project.algorithms.sketching_sketches import L2Estimator, L1Estimator\n",
    "from mini_project.utils import check_error\n",
    "import numpy as np\n",
    "\n",
    "def test_l1(test_file,n,N,is_dependent,delta,s):\n",
    "    estimator = L1Estimator(delta, s, n)\n",
    "    (res, answer, error) = check_error(estimator, test_file)\n",
    "    print(\"error:\", error)\n",
    "    with open('results/sketching_sketches_l1.csv', 'a') as f:\n",
    "        f.write(f\"{n},{N},{is_dependent},{res},{answer},{error},{delta},{s}\\n\")\n",
    "\n",
    "def test_l2(test_file,n,N,is_dependent,A,B):\n",
    "    estimator = L2Estimator(A, B, n)\n",
    "    (res, answer, error) = check_error(estimator, test_file)\n",
    "    print(\"error:\", error)\n",
    "    with open('results/sketching_sketches_l2.csv', 'a') as f:\n",
    "        f.write(f\"{n},{N},{is_dependent},{res},{answer},{error},{A},{B}\\n\")\n",
    "\n",
    "# n_range = [10,10**2,10**3,10**4,10**5,10**6,10**7]\n",
    "# N_range = [10**3,10**4,10**5,10**6,10**7,10**8]\n",
    "        \n",
    "n_range = [10**3,10**4]\n",
    "N_range = [10**4,10**5,10**6]\n",
    "l1_delta_range = [0.001,0.0001,0.00001,0.000001,0.0000001,0.0000000001]\n",
    "l1_s_range = range(1000,9000,3000)\n",
    "l2_A_range = range(100,1000,300)\n",
    "l2_B_range = range(100,1000,300)\n",
    "\n",
    "\n",
    "for n in n_range:\n",
    "    for N in N_range :\n",
    "        for is_dependent in['dependent','independent']:\n",
    "            test_file = f\"{n}-{N}-{is_dependent}\"\n",
    "            print(test_file)\n",
    "            for delta in l1_delta_range:\n",
    "                for s in l1_s_range:\n",
    "                    print(\"l1\",test_file,n,N,is_dependent,delta,s)\n",
    "                    test_l1(test_file,n,N,is_dependent,delta,s)\n",
    "            for A in l2_A_range:\n",
    "                for B in l2_B_range:\n",
    "                    print(\"l2\",test_file,n,N,is_dependent,A,B)\n",
    "                    test_l2(test_file,n,N,is_dependent,A,B)"
   ]
  },
  {
   "cell_type": "markdown",
   "id": "4bbcaac5-2e5d-4dff-bde5-cabc070da375",
   "metadata": {},
   "source": [
    "## Load results"
   ]
  },
  {
   "cell_type": "code",
   "execution_count": null,
   "id": "24f78dee-95ab-40d8-b186-ffefb0006298",
   "metadata": {},
   "outputs": [],
   "source": [
    "import pandas as pd\n",
    "\n",
    "df_l1 = pd.read_csv(\"results/sketching_sketches_l1.csv\")\n",
    "df_l1.head(100)"
   ]
  },
  {
   "cell_type": "code",
   "execution_count": null,
   "id": "97d82b31-d98e-4e23-9f59-b0a320a44ba6",
   "metadata": {},
   "outputs": [],
   "source": [
    "import pandas as pd\n",
    "\n",
    "df_l1 = pd.read_csv(\"results/sketching_sketches_l2.csv\")\n",
    "df_l1.head(100)"
   ]
  },
  {
   "cell_type": "code",
   "execution_count": null,
   "id": "2f6e46ef-0453-46da-ba38-7c95a1e40533",
   "metadata": {},
   "outputs": [],
   "source": []
  }
 ],
 "metadata": {
  "kernelspec": {
   "display_name": "Python 3 (ipykernel)",
   "language": "python",
   "name": "python3"
  },
  "language_info": {
   "codemirror_mode": {
    "name": "ipython",
    "version": 3
   },
   "file_extension": ".py",
   "mimetype": "text/x-python",
   "name": "python",
   "nbconvert_exporter": "python",
   "pygments_lexer": "ipython3",
   "version": "3.9.7"
  }
 },
 "nbformat": 4,
 "nbformat_minor": 5
}
